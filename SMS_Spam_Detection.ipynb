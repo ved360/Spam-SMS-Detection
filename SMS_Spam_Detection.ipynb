{
 "cells": [
  {
   "cell_type": "raw",
   "id": "6f812ec7-6fce-4469-b1a4-37a957dcfabf",
   "metadata": {},
   "source": [
    "Preprocessing dataset for utilization"
   ]
  },
  {
   "cell_type": "code",
   "execution_count": 1,
   "id": "1edffd9d-3335-4fdb-b815-3aba6d76e6f9",
   "metadata": {},
   "outputs": [],
   "source": [
    "import numpy as np\n",
    "import pandas as pd\n",
    "import csv\n",
    "import matplotlib.pyplot as plt\n",
    "import os\n",
    "import seaborn as sns\n",
    "from sklearn.model_selection import train_test_split"
   ]
  },
  {
   "cell_type": "code",
   "execution_count": 2,
   "id": "9afc3b08-7d56-4cf8-a4ee-f545e35d835c",
   "metadata": {},
   "outputs": [],
   "source": [
    "data_path = '/home/vedantbarde/Afame Technology/spam.csv'"
   ]
  },
  {
   "cell_type": "code",
   "execution_count": 3,
   "id": "c2a16abe-574a-4c7a-a455-c8bf14bdb06b",
   "metadata": {},
   "outputs": [],
   "source": [
    "df = pd.read_csv('spam.csv', encoding= 'latin1')"
   ]
  },
  {
   "cell_type": "code",
   "execution_count": 4,
   "id": "3ef1e75b-69ad-499d-9597-1e131a2c3a07",
   "metadata": {},
   "outputs": [
    {
     "name": "stdout",
     "output_type": "stream",
     "text": [
      "        v1                                                 v2\n",
      "0      ham  Go until jurong point, crazy.. Available only ...\n",
      "1      ham                      Ok lar... Joking wif u oni...\n",
      "2     spam  Free entry in 2 a wkly comp to win FA Cup fina...\n",
      "3      ham  U dun say so early hor... U c already then say...\n",
      "4      ham  Nah I don't think he goes to usf, he lives aro...\n",
      "...    ...                                                ...\n",
      "5567  spam  This is the 2nd time we have tried 2 contact u...\n",
      "5568   ham              Will Ì_ b going to esplanade fr home?\n",
      "5569   ham  Pity, * was in mood for that. So...any other s...\n",
      "5570   ham  The guy did some bitching but I acted like i'd...\n",
      "5571   ham                         Rofl. Its true to its name\n",
      "\n",
      "[5572 rows x 2 columns]\n"
     ]
    }
   ],
   "source": [
    "print(df[['v1','v2']])"
   ]
  },
  {
   "cell_type": "code",
   "execution_count": 5,
   "id": "8be180d5-84a5-47df-a26c-aa42fc71c72a",
   "metadata": {},
   "outputs": [
    {
     "name": "stdout",
     "output_type": "stream",
     "text": [
      "Index(['Name', 'Content', 'Unnamed: 2', 'Unnamed: 3', 'Unnamed: 4'], dtype='object')\n"
     ]
    }
   ],
   "source": [
    "df = df.rename(columns={'v1' : 'Name', 'v2' : 'Content'})\n",
    "print(df.columns)"
   ]
  },
  {
   "cell_type": "code",
   "execution_count": 6,
   "id": "6cf50886-a37b-4822-a332-727fd32f63b1",
   "metadata": {},
   "outputs": [
    {
     "name": "stderr",
     "output_type": "stream",
     "text": [
      "/tmp/ipykernel_6859/263389634.py:2: SettingWithCopyWarning: \n",
      "A value is trying to be set on a copy of a slice from a DataFrame.\n",
      "Try using .loc[row_indexer,col_indexer] = value instead\n",
      "\n",
      "See the caveats in the documentation: https://pandas.pydata.org/pandas-docs/stable/user_guide/indexing.html#returning-a-view-versus-a-copy\n",
      "  df_cleaned['Label'] = df_cleaned['Name'].map({'ham' : 0, 'spam' : 1})\n"
     ]
    }
   ],
   "source": [
    "df_cleaned = df.dropna(axis= 1, how='any') \n",
    "df_cleaned['Label'] = df_cleaned['Name'].map({'ham' : 0, 'spam' : 1})"
   ]
  },
  {
   "cell_type": "code",
   "execution_count": 7,
   "id": "31e0543a-f138-454a-a690-cdf934d47d0d",
   "metadata": {},
   "outputs": [
    {
     "data": {
      "text/plain": [
       "(      Name                                            Content Unnamed: 2  \\\n",
       " 0      ham  Go until jurong point, crazy.. Available only ...        NaN   \n",
       " 1      ham                      Ok lar... Joking wif u oni...        NaN   \n",
       " 2     spam  Free entry in 2 a wkly comp to win FA Cup fina...        NaN   \n",
       " 3      ham  U dun say so early hor... U c already then say...        NaN   \n",
       " 4      ham  Nah I don't think he goes to usf, he lives aro...        NaN   \n",
       " ...    ...                                                ...        ...   \n",
       " 5567  spam  This is the 2nd time we have tried 2 contact u...        NaN   \n",
       " 5568   ham              Will Ì_ b going to esplanade fr home?        NaN   \n",
       " 5569   ham  Pity, * was in mood for that. So...any other s...        NaN   \n",
       " 5570   ham  The guy did some bitching but I acted like i'd...        NaN   \n",
       " 5571   ham                         Rofl. Its true to its name        NaN   \n",
       " \n",
       "      Unnamed: 3 Unnamed: 4  \n",
       " 0           NaN        NaN  \n",
       " 1           NaN        NaN  \n",
       " 2           NaN        NaN  \n",
       " 3           NaN        NaN  \n",
       " 4           NaN        NaN  \n",
       " ...         ...        ...  \n",
       " 5567        NaN        NaN  \n",
       " 5568        NaN        NaN  \n",
       " 5569        NaN        NaN  \n",
       " 5570        NaN        NaN  \n",
       " 5571        NaN        NaN  \n",
       " \n",
       " [5572 rows x 5 columns],\n",
       "       Name                                            Content  Label\n",
       " 0      ham  Go until jurong point, crazy.. Available only ...      0\n",
       " 1      ham                      Ok lar... Joking wif u oni...      0\n",
       " 2     spam  Free entry in 2 a wkly comp to win FA Cup fina...      1\n",
       " 3      ham  U dun say so early hor... U c already then say...      0\n",
       " 4      ham  Nah I don't think he goes to usf, he lives aro...      0\n",
       " ...    ...                                                ...    ...\n",
       " 5567  spam  This is the 2nd time we have tried 2 contact u...      1\n",
       " 5568   ham              Will Ì_ b going to esplanade fr home?      0\n",
       " 5569   ham  Pity, * was in mood for that. So...any other s...      0\n",
       " 5570   ham  The guy did some bitching but I acted like i'd...      0\n",
       " 5571   ham                         Rofl. Its true to its name      0\n",
       " \n",
       " [5572 rows x 3 columns])"
      ]
     },
     "execution_count": 7,
     "metadata": {},
     "output_type": "execute_result"
    }
   ],
   "source": [
    "# Visualizing the original data and processed data\n",
    "df, df_cleaned"
   ]
  },
  {
   "cell_type": "code",
   "execution_count": 8,
   "id": "a9bc4184-942c-4ff9-a8ff-a4a73a932807",
   "metadata": {},
   "outputs": [],
   "source": [
    "# spam = 0\n",
    "# ham = 0\n",
    "# for i in range(len(df_cleaned.Label)):\n",
    "#     if df_cleaned.Label[i] == 1:\n",
    "#         spam += 1\n",
    "#     else: \n",
    "#         ham += 1\n",
    "# print(spam)\n",
    "# print(ham)\n",
    "# print(spam + ham)"
   ]
  },
  {
   "cell_type": "code",
   "execution_count": 9,
   "id": "aad65844-4d18-4abb-8ece-9ed2efeb6ddc",
   "metadata": {},
   "outputs": [],
   "source": [
    "# Splitting the data into train dataset and test dataset\n",
    "df_train, df_test = train_test_split(df_cleaned, test_size = 0.3, random_state=0)"
   ]
  },
  {
   "cell_type": "code",
   "execution_count": 10,
   "id": "50075313-fc6c-4441-8322-9046224645fb",
   "metadata": {},
   "outputs": [
    {
     "data": {
      "text/plain": [
       "((3900, 3), (1672, 3), (5572, 3))"
      ]
     },
     "execution_count": 10,
     "metadata": {},
     "output_type": "execute_result"
    }
   ],
   "source": [
    "df_train.shape, df_test.shape, df_cleaned.shape"
   ]
  },
  {
   "cell_type": "code",
   "execution_count": 11,
   "id": "05f678c1-c59c-404f-b078-3da81097c3db",
   "metadata": {},
   "outputs": [],
   "source": [
    "x_train, y_train = df_train['Content'], df_train['Label']\n",
    "x_test, y_test = df_test['Content'], df_test['Label']"
   ]
  },
  {
   "cell_type": "markdown",
   "id": "df9abc15-f595-49f1-a85e-62a9c388e861",
   "metadata": {},
   "source": [
    "Creating ML model -- Naive Bayes"
   ]
  },
  {
   "cell_type": "code",
   "execution_count": 12,
   "id": "cb28c0a3-929d-482b-9652-caf40adb8a00",
   "metadata": {},
   "outputs": [],
   "source": [
    "from sklearn.feature_extraction.text import TfidfVectorizer\n",
    "from sklearn.naive_bayes import MultinomialNB \n",
    "from sklearn.metrics import accuracy_score\n"
   ]
  },
  {
   "cell_type": "code",
   "execution_count": 13,
   "id": "4d054d0d-0d9c-4d41-b344-2631fe641d02",
   "metadata": {},
   "outputs": [
    {
     "name": "stderr",
     "output_type": "stream",
     "text": [
      "/home/vedantbarde/anaconda3/lib/python3.11/site-packages/sklearn/utils/validation.py:605: FutureWarning: is_sparse is deprecated and will be removed in a future version. Check `isinstance(dtype, pd.SparseDtype)` instead.\n",
      "  if is_sparse(pd_dtype):\n",
      "/home/vedantbarde/anaconda3/lib/python3.11/site-packages/sklearn/utils/validation.py:614: FutureWarning: is_sparse is deprecated and will be removed in a future version. Check `isinstance(dtype, pd.SparseDtype)` instead.\n",
      "  if is_sparse(pd_dtype) or not is_extension_array_dtype(pd_dtype):\n"
     ]
    },
    {
     "data": {
      "text/html": [
       "<style>#sk-container-id-1 {color: black;background-color: white;}#sk-container-id-1 pre{padding: 0;}#sk-container-id-1 div.sk-toggleable {background-color: white;}#sk-container-id-1 label.sk-toggleable__label {cursor: pointer;display: block;width: 100%;margin-bottom: 0;padding: 0.3em;box-sizing: border-box;text-align: center;}#sk-container-id-1 label.sk-toggleable__label-arrow:before {content: \"▸\";float: left;margin-right: 0.25em;color: #696969;}#sk-container-id-1 label.sk-toggleable__label-arrow:hover:before {color: black;}#sk-container-id-1 div.sk-estimator:hover label.sk-toggleable__label-arrow:before {color: black;}#sk-container-id-1 div.sk-toggleable__content {max-height: 0;max-width: 0;overflow: hidden;text-align: left;background-color: #f0f8ff;}#sk-container-id-1 div.sk-toggleable__content pre {margin: 0.2em;color: black;border-radius: 0.25em;background-color: #f0f8ff;}#sk-container-id-1 input.sk-toggleable__control:checked~div.sk-toggleable__content {max-height: 200px;max-width: 100%;overflow: auto;}#sk-container-id-1 input.sk-toggleable__control:checked~label.sk-toggleable__label-arrow:before {content: \"▾\";}#sk-container-id-1 div.sk-estimator input.sk-toggleable__control:checked~label.sk-toggleable__label {background-color: #d4ebff;}#sk-container-id-1 div.sk-label input.sk-toggleable__control:checked~label.sk-toggleable__label {background-color: #d4ebff;}#sk-container-id-1 input.sk-hidden--visually {border: 0;clip: rect(1px 1px 1px 1px);clip: rect(1px, 1px, 1px, 1px);height: 1px;margin: -1px;overflow: hidden;padding: 0;position: absolute;width: 1px;}#sk-container-id-1 div.sk-estimator {font-family: monospace;background-color: #f0f8ff;border: 1px dotted black;border-radius: 0.25em;box-sizing: border-box;margin-bottom: 0.5em;}#sk-container-id-1 div.sk-estimator:hover {background-color: #d4ebff;}#sk-container-id-1 div.sk-parallel-item::after {content: \"\";width: 100%;border-bottom: 1px solid gray;flex-grow: 1;}#sk-container-id-1 div.sk-label:hover label.sk-toggleable__label {background-color: #d4ebff;}#sk-container-id-1 div.sk-serial::before {content: \"\";position: absolute;border-left: 1px solid gray;box-sizing: border-box;top: 0;bottom: 0;left: 50%;z-index: 0;}#sk-container-id-1 div.sk-serial {display: flex;flex-direction: column;align-items: center;background-color: white;padding-right: 0.2em;padding-left: 0.2em;position: relative;}#sk-container-id-1 div.sk-item {position: relative;z-index: 1;}#sk-container-id-1 div.sk-parallel {display: flex;align-items: stretch;justify-content: center;background-color: white;position: relative;}#sk-container-id-1 div.sk-item::before, #sk-container-id-1 div.sk-parallel-item::before {content: \"\";position: absolute;border-left: 1px solid gray;box-sizing: border-box;top: 0;bottom: 0;left: 50%;z-index: -1;}#sk-container-id-1 div.sk-parallel-item {display: flex;flex-direction: column;z-index: 1;position: relative;background-color: white;}#sk-container-id-1 div.sk-parallel-item:first-child::after {align-self: flex-end;width: 50%;}#sk-container-id-1 div.sk-parallel-item:last-child::after {align-self: flex-start;width: 50%;}#sk-container-id-1 div.sk-parallel-item:only-child::after {width: 0;}#sk-container-id-1 div.sk-dashed-wrapped {border: 1px dashed gray;margin: 0 0.4em 0.5em 0.4em;box-sizing: border-box;padding-bottom: 0.4em;background-color: white;}#sk-container-id-1 div.sk-label label {font-family: monospace;font-weight: bold;display: inline-block;line-height: 1.2em;}#sk-container-id-1 div.sk-label-container {text-align: center;}#sk-container-id-1 div.sk-container {/* jupyter's `normalize.less` sets `[hidden] { display: none; }` but bootstrap.min.css set `[hidden] { display: none !important; }` so we also need the `!important` here to be able to override the default hidden behavior on the sphinx rendered scikit-learn.org. See: https://github.com/scikit-learn/scikit-learn/issues/21755 */display: inline-block !important;position: relative;}#sk-container-id-1 div.sk-text-repr-fallback {display: none;}</style><div id=\"sk-container-id-1\" class=\"sk-top-container\"><div class=\"sk-text-repr-fallback\"><pre>MultinomialNB()</pre><b>In a Jupyter environment, please rerun this cell to show the HTML representation or trust the notebook. <br />On GitHub, the HTML representation is unable to render, please try loading this page with nbviewer.org.</b></div><div class=\"sk-container\" hidden><div class=\"sk-item\"><div class=\"sk-estimator sk-toggleable\"><input class=\"sk-toggleable__control sk-hidden--visually\" id=\"sk-estimator-id-1\" type=\"checkbox\" checked><label for=\"sk-estimator-id-1\" class=\"sk-toggleable__label sk-toggleable__label-arrow\">MultinomialNB</label><div class=\"sk-toggleable__content\"><pre>MultinomialNB()</pre></div></div></div></div></div>"
      ],
      "text/plain": [
       "MultinomialNB()"
      ]
     },
     "execution_count": 13,
     "metadata": {},
     "output_type": "execute_result"
    }
   ],
   "source": [
    "model = TfidfVectorizer().fit(df_train)\n",
    "x_train_vec = model.transform(x_train)\n",
    "x_test_vec = model.transform(x_test)\n",
    "baseline_model = MultinomialNB()\n",
    "baseline_model.fit(x_train_vec, y_train)"
   ]
  },
  {
   "cell_type": "code",
   "execution_count": 14,
   "id": "ad759536-24bb-48d5-86e2-275cdc0d9ea6",
   "metadata": {},
   "outputs": [
    {
     "name": "stdout",
     "output_type": "stream",
     "text": [
      "0.8594497607655502\n"
     ]
    },
    {
     "name": "stderr",
     "output_type": "stream",
     "text": [
      "/home/vedantbarde/anaconda3/lib/python3.11/site-packages/sklearn/utils/validation.py:605: FutureWarning: is_sparse is deprecated and will be removed in a future version. Check `isinstance(dtype, pd.SparseDtype)` instead.\n",
      "  if is_sparse(pd_dtype):\n",
      "/home/vedantbarde/anaconda3/lib/python3.11/site-packages/sklearn/utils/validation.py:614: FutureWarning: is_sparse is deprecated and will be removed in a future version. Check `isinstance(dtype, pd.SparseDtype)` instead.\n",
      "  if is_sparse(pd_dtype) or not is_extension_array_dtype(pd_dtype):\n",
      "/home/vedantbarde/anaconda3/lib/python3.11/site-packages/sklearn/utils/validation.py:605: FutureWarning: is_sparse is deprecated and will be removed in a future version. Check `isinstance(dtype, pd.SparseDtype)` instead.\n",
      "  if is_sparse(pd_dtype):\n",
      "/home/vedantbarde/anaconda3/lib/python3.11/site-packages/sklearn/utils/validation.py:614: FutureWarning: is_sparse is deprecated and will be removed in a future version. Check `isinstance(dtype, pd.SparseDtype)` instead.\n",
      "  if is_sparse(pd_dtype) or not is_extension_array_dtype(pd_dtype):\n",
      "/home/vedantbarde/anaconda3/lib/python3.11/site-packages/sklearn/utils/validation.py:605: FutureWarning: is_sparse is deprecated and will be removed in a future version. Check `isinstance(dtype, pd.SparseDtype)` instead.\n",
      "  if is_sparse(pd_dtype):\n",
      "/home/vedantbarde/anaconda3/lib/python3.11/site-packages/sklearn/utils/validation.py:614: FutureWarning: is_sparse is deprecated and will be removed in a future version. Check `isinstance(dtype, pd.SparseDtype)` instead.\n",
      "  if is_sparse(pd_dtype) or not is_extension_array_dtype(pd_dtype):\n"
     ]
    }
   ],
   "source": [
    "prediction = baseline_model.predict(x_test_vec)\n",
    "accuracy = accuracy_score(y_test, prediction)\n",
    "print(accuracy)"
   ]
  }
 ],
 "metadata": {
  "kernelspec": {
   "display_name": "Python 3 (ipykernel)",
   "language": "python",
   "name": "python3"
  },
  "language_info": {
   "codemirror_mode": {
    "name": "ipython",
    "version": 3
   },
   "file_extension": ".py",
   "mimetype": "text/x-python",
   "name": "python",
   "nbconvert_exporter": "python",
   "pygments_lexer": "ipython3",
   "version": "3.11.5"
  }
 },
 "nbformat": 4,
 "nbformat_minor": 5
}
